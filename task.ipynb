{
 "cells": [
  {
   "cell_type": "code",
   "execution_count": 2,
   "id": "05ec7e9f-65cf-4318-9498-30808c194cfd",
   "metadata": {
    "tags": []
   },
   "outputs": [],
   "source": [
    "import pandas as pd\n",
    "import numpy as np"
   ]
  },
  {
   "cell_type": "code",
   "execution_count": 3,
   "id": "8e56b72d-f408-4147-bb1f-4df214ce915d",
   "metadata": {
    "tags": []
   },
   "outputs": [],
   "source": [
    "df = pd.read_csv(\"Bank_Customer.csv\")"
   ]
  },
  {
   "cell_type": "code",
   "execution_count": 4,
   "id": "982bd90c-6c26-43a5-aa05-17f584339585",
   "metadata": {
    "tags": []
   },
   "outputs": [
    {
     "data": {
      "text/html": [
       "<div>\n",
       "<style scoped>\n",
       "    .dataframe tbody tr th:only-of-type {\n",
       "        vertical-align: middle;\n",
       "    }\n",
       "\n",
       "    .dataframe tbody tr th {\n",
       "        vertical-align: top;\n",
       "    }\n",
       "\n",
       "    .dataframe thead th {\n",
       "        text-align: right;\n",
       "    }\n",
       "</style>\n",
       "<table border=\"1\" class=\"dataframe\">\n",
       "  <thead>\n",
       "    <tr style=\"text-align: right;\">\n",
       "      <th></th>\n",
       "      <th>age</th>\n",
       "      <th>job</th>\n",
       "      <th>marital</th>\n",
       "      <th>education</th>\n",
       "      <th>balance</th>\n",
       "      <th>duration</th>\n",
       "    </tr>\n",
       "  </thead>\n",
       "  <tbody>\n",
       "    <tr>\n",
       "      <th>0</th>\n",
       "      <td>58.0</td>\n",
       "      <td>management</td>\n",
       "      <td>married</td>\n",
       "      <td>tertiary</td>\n",
       "      <td>2143</td>\n",
       "      <td>261</td>\n",
       "    </tr>\n",
       "    <tr>\n",
       "      <th>1</th>\n",
       "      <td>44.0</td>\n",
       "      <td>technician</td>\n",
       "      <td>single</td>\n",
       "      <td>secondary</td>\n",
       "      <td>29</td>\n",
       "      <td>151</td>\n",
       "    </tr>\n",
       "    <tr>\n",
       "      <th>2</th>\n",
       "      <td>33.0</td>\n",
       "      <td>entrepreneur</td>\n",
       "      <td>married</td>\n",
       "      <td>secondary</td>\n",
       "      <td>2</td>\n",
       "      <td>76</td>\n",
       "    </tr>\n",
       "    <tr>\n",
       "      <th>3</th>\n",
       "      <td>47.0</td>\n",
       "      <td>blue-collar</td>\n",
       "      <td>married</td>\n",
       "      <td>unknown</td>\n",
       "      <td>1506</td>\n",
       "      <td>92</td>\n",
       "    </tr>\n",
       "    <tr>\n",
       "      <th>4</th>\n",
       "      <td>33.0</td>\n",
       "      <td>unknown</td>\n",
       "      <td>single</td>\n",
       "      <td>unknown</td>\n",
       "      <td>1</td>\n",
       "      <td>198</td>\n",
       "    </tr>\n",
       "    <tr>\n",
       "      <th>...</th>\n",
       "      <td>...</td>\n",
       "      <td>...</td>\n",
       "      <td>...</td>\n",
       "      <td>...</td>\n",
       "      <td>...</td>\n",
       "      <td>...</td>\n",
       "    </tr>\n",
       "    <tr>\n",
       "      <th>1085</th>\n",
       "      <td>NaN</td>\n",
       "      <td>admin.</td>\n",
       "      <td>married</td>\n",
       "      <td>primary</td>\n",
       "      <td>136</td>\n",
       "      <td>283</td>\n",
       "    </tr>\n",
       "    <tr>\n",
       "      <th>1086</th>\n",
       "      <td>NaN</td>\n",
       "      <td>blue-collar</td>\n",
       "      <td>single</td>\n",
       "      <td>unknown</td>\n",
       "      <td>2167</td>\n",
       "      <td>1273</td>\n",
       "    </tr>\n",
       "    <tr>\n",
       "      <th>1087</th>\n",
       "      <td>NaN</td>\n",
       "      <td>blue-collar</td>\n",
       "      <td>married</td>\n",
       "      <td>secondary</td>\n",
       "      <td>309</td>\n",
       "      <td>1574</td>\n",
       "    </tr>\n",
       "    <tr>\n",
       "      <th>1088</th>\n",
       "      <td>NaN</td>\n",
       "      <td>technician</td>\n",
       "      <td>married</td>\n",
       "      <td>secondary</td>\n",
       "      <td>221</td>\n",
       "      <td>139</td>\n",
       "    </tr>\n",
       "    <tr>\n",
       "      <th>1089</th>\n",
       "      <td>NaN</td>\n",
       "      <td>blue-collar</td>\n",
       "      <td>married</td>\n",
       "      <td>primary</td>\n",
       "      <td>321</td>\n",
       "      <td>228</td>\n",
       "    </tr>\n",
       "  </tbody>\n",
       "</table>\n",
       "<p>1090 rows × 6 columns</p>\n",
       "</div>"
      ],
      "text/plain": [
       "       age           job  marital  education  balance duration\n",
       "0     58.0    management  married   tertiary     2143      261\n",
       "1     44.0    technician   single  secondary       29      151\n",
       "2     33.0  entrepreneur  married  secondary        2       76\n",
       "3     47.0   blue-collar  married    unknown     1506       92\n",
       "4     33.0       unknown   single    unknown        1      198\n",
       "...    ...           ...      ...        ...      ...      ...\n",
       "1085   NaN        admin.  married    primary      136      283\n",
       "1086   NaN   blue-collar   single    unknown     2167     1273\n",
       "1087   NaN   blue-collar  married  secondary      309     1574\n",
       "1088   NaN    technician  married  secondary      221      139\n",
       "1089   NaN   blue-collar  married    primary      321      228\n",
       "\n",
       "[1090 rows x 6 columns]"
      ]
     },
     "execution_count": 4,
     "metadata": {},
     "output_type": "execute_result"
    }
   ],
   "source": [
    "df"
   ]
  },
  {
   "cell_type": "code",
   "execution_count": 5,
   "id": "e63f403e-2321-4b42-8950-bda37596f03f",
   "metadata": {
    "tags": []
   },
   "outputs": [
    {
     "name": "stdout",
     "output_type": "stream",
     "text": [
      "<class 'pandas.core.frame.DataFrame'>\n",
      "RangeIndex: 1090 entries, 0 to 1089\n",
      "Data columns (total 6 columns):\n",
      " #   Column     Non-Null Count  Dtype  \n",
      "---  ------     --------------  -----  \n",
      " 0   age        1000 non-null   float64\n",
      " 1   job        1090 non-null   object \n",
      " 2   marital    1090 non-null   object \n",
      " 3   education  1090 non-null   object \n",
      " 4   balance    1090 non-null   int64  \n",
      " 5   duration   1090 non-null   object \n",
      "dtypes: float64(1), int64(1), object(4)\n",
      "memory usage: 51.2+ KB\n"
     ]
    }
   ],
   "source": [
    "df.info()"
   ]
  },
  {
   "cell_type": "code",
   "execution_count": 6,
   "id": "05686aa6-f1d7-4c6b-af57-2248ce7678b1",
   "metadata": {
    "tags": []
   },
   "outputs": [
    {
     "data": {
      "text/plain": [
       "1090"
      ]
     },
     "execution_count": 6,
     "metadata": {},
     "output_type": "execute_result"
    }
   ],
   "source": [
    "# count number of cells that are string in \"duration\" column\n",
    "df['duration'].apply(lambda x: isinstance(x, str)).sum()"
   ]
  },
  {
   "cell_type": "code",
   "execution_count": 7,
   "id": "66f188e3-f530-46db-b164-c42a1e547e7e",
   "metadata": {
    "tags": []
   },
   "outputs": [
    {
     "data": {
      "text/plain": [
       "9"
      ]
     },
     "execution_count": 7,
     "metadata": {},
     "output_type": "execute_result"
    }
   ],
   "source": [
    "df.loc[df['duration'] == 'zero', 'duration'].count()"
   ]
  },
  {
   "cell_type": "code",
   "execution_count": 8,
   "id": "e065e90c-9d86-4a26-9921-2320e7406a47",
   "metadata": {
    "tags": []
   },
   "outputs": [],
   "source": [
    "df['duration'].replace('zero',0 , inplace = True)"
   ]
  },
  {
   "cell_type": "code",
   "execution_count": 9,
   "id": "798f3e85-88ce-4ca5-8b05-9f9a58c54e2a",
   "metadata": {
    "tags": []
   },
   "outputs": [],
   "source": [
    "# convert all to int\n",
    "df['duration'] = df['duration'].astype(int)"
   ]
  },
  {
   "cell_type": "code",
   "execution_count": 10,
   "id": "dcd611eb-4599-4a0e-af60-b1b6ca77dd79",
   "metadata": {
    "tags": []
   },
   "outputs": [
    {
     "data": {
      "text/plain": [
       "numpy.int32"
      ]
     },
     "execution_count": 10,
     "metadata": {},
     "output_type": "execute_result"
    }
   ],
   "source": [
    "type(df.at[526 , 'duration'])"
   ]
  },
  {
   "cell_type": "code",
   "execution_count": 11,
   "id": "cc99433a-6d13-4c9f-9bc8-566176b8e0bc",
   "metadata": {},
   "outputs": [],
   "source": [
    "# drop all rows that have NaN values in the column \"age\"\n",
    "df.dropna(subset = 'age', inplace = True) "
   ]
  },
  {
   "cell_type": "code",
   "execution_count": 12,
   "id": "cdba8779-5173-4dab-bd47-1ca7281662cf",
   "metadata": {
    "tags": []
   },
   "outputs": [],
   "source": [
    "stats = pd.DataFrame(df.groupby(['education']).describe())"
   ]
  },
  {
   "cell_type": "code",
   "execution_count": 13,
   "id": "74324fa7-78e7-446a-96a6-6b0ef0ee9233",
   "metadata": {
    "tags": []
   },
   "outputs": [],
   "source": [
    "pd.set_option('display.max_columns',24)"
   ]
  },
  {
   "cell_type": "code",
   "execution_count": 14,
   "id": "a7be39b1-4e1e-4073-9238-1c375db26dc2",
   "metadata": {
    "tags": []
   },
   "outputs": [
    {
     "data": {
      "text/html": [
       "<div>\n",
       "<style scoped>\n",
       "    .dataframe tbody tr th:only-of-type {\n",
       "        vertical-align: middle;\n",
       "    }\n",
       "\n",
       "    .dataframe tbody tr th {\n",
       "        vertical-align: top;\n",
       "    }\n",
       "\n",
       "    .dataframe thead tr th {\n",
       "        text-align: left;\n",
       "    }\n",
       "\n",
       "    .dataframe thead tr:last-of-type th {\n",
       "        text-align: right;\n",
       "    }\n",
       "</style>\n",
       "<table border=\"1\" class=\"dataframe\">\n",
       "  <thead>\n",
       "    <tr>\n",
       "      <th></th>\n",
       "      <th colspan=\"8\" halign=\"left\">age</th>\n",
       "      <th colspan=\"8\" halign=\"left\">balance</th>\n",
       "      <th colspan=\"8\" halign=\"left\">duration</th>\n",
       "    </tr>\n",
       "    <tr>\n",
       "      <th></th>\n",
       "      <th>count</th>\n",
       "      <th>mean</th>\n",
       "      <th>std</th>\n",
       "      <th>min</th>\n",
       "      <th>25%</th>\n",
       "      <th>50%</th>\n",
       "      <th>75%</th>\n",
       "      <th>max</th>\n",
       "      <th>count</th>\n",
       "      <th>mean</th>\n",
       "      <th>std</th>\n",
       "      <th>min</th>\n",
       "      <th>25%</th>\n",
       "      <th>50%</th>\n",
       "      <th>75%</th>\n",
       "      <th>max</th>\n",
       "      <th>count</th>\n",
       "      <th>mean</th>\n",
       "      <th>std</th>\n",
       "      <th>min</th>\n",
       "      <th>25%</th>\n",
       "      <th>50%</th>\n",
       "      <th>75%</th>\n",
       "      <th>max</th>\n",
       "    </tr>\n",
       "    <tr>\n",
       "      <th>education</th>\n",
       "      <th></th>\n",
       "      <th></th>\n",
       "      <th></th>\n",
       "      <th></th>\n",
       "      <th></th>\n",
       "      <th></th>\n",
       "      <th></th>\n",
       "      <th></th>\n",
       "      <th></th>\n",
       "      <th></th>\n",
       "      <th></th>\n",
       "      <th></th>\n",
       "      <th></th>\n",
       "      <th></th>\n",
       "      <th></th>\n",
       "      <th></th>\n",
       "      <th></th>\n",
       "      <th></th>\n",
       "      <th></th>\n",
       "      <th></th>\n",
       "      <th></th>\n",
       "      <th></th>\n",
       "      <th></th>\n",
       "      <th></th>\n",
       "    </tr>\n",
       "  </thead>\n",
       "  <tbody>\n",
       "    <tr>\n",
       "      <th>primary</th>\n",
       "      <td>155.0</td>\n",
       "      <td>45.651613</td>\n",
       "      <td>8.157216</td>\n",
       "      <td>28.0</td>\n",
       "      <td>39.00</td>\n",
       "      <td>45.0</td>\n",
       "      <td>52.5</td>\n",
       "      <td>61.0</td>\n",
       "      <td>155.0</td>\n",
       "      <td>365.651613</td>\n",
       "      <td>762.747593</td>\n",
       "      <td>-454.0</td>\n",
       "      <td>18.00</td>\n",
       "      <td>139.0</td>\n",
       "      <td>356.0</td>\n",
       "      <td>5431.0</td>\n",
       "      <td>155.0</td>\n",
       "      <td>253.664516</td>\n",
       "      <td>218.825563</td>\n",
       "      <td>0.0</td>\n",
       "      <td>124.50</td>\n",
       "      <td>189.0</td>\n",
       "      <td>301.00</td>\n",
       "      <td>1778.0</td>\n",
       "    </tr>\n",
       "    <tr>\n",
       "      <th>secondary</th>\n",
       "      <td>570.0</td>\n",
       "      <td>41.540351</td>\n",
       "      <td>9.218455</td>\n",
       "      <td>22.0</td>\n",
       "      <td>34.00</td>\n",
       "      <td>40.0</td>\n",
       "      <td>49.0</td>\n",
       "      <td>61.0</td>\n",
       "      <td>570.0</td>\n",
       "      <td>508.400000</td>\n",
       "      <td>2622.819492</td>\n",
       "      <td>-932.0</td>\n",
       "      <td>18.25</td>\n",
       "      <td>155.5</td>\n",
       "      <td>432.5</td>\n",
       "      <td>58544.0</td>\n",
       "      <td>570.0</td>\n",
       "      <td>272.968421</td>\n",
       "      <td>247.822253</td>\n",
       "      <td>0.0</td>\n",
       "      <td>136.00</td>\n",
       "      <td>201.5</td>\n",
       "      <td>314.25</td>\n",
       "      <td>1906.0</td>\n",
       "    </tr>\n",
       "    <tr>\n",
       "      <th>tertiary</th>\n",
       "      <td>186.0</td>\n",
       "      <td>41.370968</td>\n",
       "      <td>8.954963</td>\n",
       "      <td>27.0</td>\n",
       "      <td>33.25</td>\n",
       "      <td>40.0</td>\n",
       "      <td>48.0</td>\n",
       "      <td>60.0</td>\n",
       "      <td>186.0</td>\n",
       "      <td>782.241935</td>\n",
       "      <td>2313.298866</td>\n",
       "      <td>-364.0</td>\n",
       "      <td>48.75</td>\n",
       "      <td>230.5</td>\n",
       "      <td>505.0</td>\n",
       "      <td>24598.0</td>\n",
       "      <td>186.0</td>\n",
       "      <td>262.424731</td>\n",
       "      <td>255.238282</td>\n",
       "      <td>0.0</td>\n",
       "      <td>119.25</td>\n",
       "      <td>195.0</td>\n",
       "      <td>321.25</td>\n",
       "      <td>2033.0</td>\n",
       "    </tr>\n",
       "    <tr>\n",
       "      <th>unknown</th>\n",
       "      <td>89.0</td>\n",
       "      <td>46.438202</td>\n",
       "      <td>7.591794</td>\n",
       "      <td>30.0</td>\n",
       "      <td>41.00</td>\n",
       "      <td>46.0</td>\n",
       "      <td>53.0</td>\n",
       "      <td>60.0</td>\n",
       "      <td>89.0</td>\n",
       "      <td>1000.449438</td>\n",
       "      <td>4815.566055</td>\n",
       "      <td>-532.0</td>\n",
       "      <td>24.00</td>\n",
       "      <td>178.0</td>\n",
       "      <td>573.0</td>\n",
       "      <td>45248.0</td>\n",
       "      <td>89.0</td>\n",
       "      <td>258.415730</td>\n",
       "      <td>250.116510</td>\n",
       "      <td>13.0</td>\n",
       "      <td>107.00</td>\n",
       "      <td>209.0</td>\n",
       "      <td>315.00</td>\n",
       "      <td>1623.0</td>\n",
       "    </tr>\n",
       "  </tbody>\n",
       "</table>\n",
       "</div>"
      ],
      "text/plain": [
       "             age                                                     balance  \\\n",
       "           count       mean       std   min    25%   50%   75%   max   count   \n",
       "education                                                                      \n",
       "primary    155.0  45.651613  8.157216  28.0  39.00  45.0  52.5  61.0   155.0   \n",
       "secondary  570.0  41.540351  9.218455  22.0  34.00  40.0  49.0  61.0   570.0   \n",
       "tertiary   186.0  41.370968  8.954963  27.0  33.25  40.0  48.0  60.0   186.0   \n",
       "unknown     89.0  46.438202  7.591794  30.0  41.00  46.0  53.0  60.0    89.0   \n",
       "\n",
       "                                                                          \\\n",
       "                  mean          std    min    25%    50%    75%      max   \n",
       "education                                                                  \n",
       "primary     365.651613   762.747593 -454.0  18.00  139.0  356.0   5431.0   \n",
       "secondary   508.400000  2622.819492 -932.0  18.25  155.5  432.5  58544.0   \n",
       "tertiary    782.241935  2313.298866 -364.0  48.75  230.5  505.0  24598.0   \n",
       "unknown    1000.449438  4815.566055 -532.0  24.00  178.0  573.0  45248.0   \n",
       "\n",
       "          duration                                                       \\\n",
       "             count        mean         std   min     25%    50%     75%   \n",
       "education                                                                 \n",
       "primary      155.0  253.664516  218.825563   0.0  124.50  189.0  301.00   \n",
       "secondary    570.0  272.968421  247.822253   0.0  136.00  201.5  314.25   \n",
       "tertiary     186.0  262.424731  255.238282   0.0  119.25  195.0  321.25   \n",
       "unknown       89.0  258.415730  250.116510  13.0  107.00  209.0  315.00   \n",
       "\n",
       "                   \n",
       "              max  \n",
       "education          \n",
       "primary    1778.0  \n",
       "secondary  1906.0  \n",
       "tertiary   2033.0  \n",
       "unknown    1623.0  "
      ]
     },
     "execution_count": 14,
     "metadata": {},
     "output_type": "execute_result"
    }
   ],
   "source": [
    "stats"
   ]
  },
  {
   "cell_type": "code",
   "execution_count": 15,
   "id": "95478640-912a-4ad0-a78f-27c69953efa0",
   "metadata": {
    "tags": []
   },
   "outputs": [
    {
     "data": {
      "text/plain": [
       "married     637\n",
       "single      220\n",
       "divorced    143\n",
       "Name: marital, dtype: int64"
      ]
     },
     "execution_count": 15,
     "metadata": {},
     "output_type": "execute_result"
    }
   ],
   "source": [
    "df['marital'].value_counts()"
   ]
  },
  {
   "cell_type": "code",
   "execution_count": 16,
   "id": "29bc47a9-ad1e-42df-b2f2-fd4d01fc4349",
   "metadata": {
    "tags": []
   },
   "outputs": [
    {
     "data": {
      "text/plain": [
       "management       11\n",
       "blue-collar       9\n",
       "services          8\n",
       "admin.            8\n",
       "technician        6\n",
       "retired           3\n",
       "unemployed        1\n",
       "housemaid         1\n",
       "self-employed     1\n",
       "Name: job, dtype: int64"
      ]
     },
     "execution_count": 16,
     "metadata": {},
     "output_type": "execute_result"
    }
   ],
   "source": [
    "df.loc[df['balance']>2000, \"job\"].value_counts()"
   ]
  },
  {
   "cell_type": "code",
   "execution_count": 30,
   "id": "e166aeb1-5133-4aab-8f37-8a380fdd9e90",
   "metadata": {},
   "outputs": [
    {
     "data": {
      "text/plain": [
       "920    58544\n",
       "446    45248\n",
       "334    24598\n",
       "69     12223\n",
       "34     10635\n",
       "Name: balance, dtype: int64"
      ]
     },
     "execution_count": 30,
     "metadata": {},
     "output_type": "execute_result"
    }
   ],
   "source": [
    "df['balance'].nlargest()"
   ]
  },
  {
   "cell_type": "code",
   "execution_count": 35,
   "id": "29638343-d690-4f1d-83b7-2bda50fd5233",
   "metadata": {
    "tags": []
   },
   "outputs": [
    {
     "data": {
      "text/html": [
       "<div>\n",
       "<style scoped>\n",
       "    .dataframe tbody tr th:only-of-type {\n",
       "        vertical-align: middle;\n",
       "    }\n",
       "\n",
       "    .dataframe tbody tr th {\n",
       "        vertical-align: top;\n",
       "    }\n",
       "\n",
       "    .dataframe thead th {\n",
       "        text-align: right;\n",
       "    }\n",
       "</style>\n",
       "<table border=\"1\" class=\"dataframe\">\n",
       "  <thead>\n",
       "    <tr style=\"text-align: right;\">\n",
       "      <th></th>\n",
       "      <th>balance</th>\n",
       "      <th>job</th>\n",
       "    </tr>\n",
       "  </thead>\n",
       "  <tbody>\n",
       "    <tr>\n",
       "      <th>920</th>\n",
       "      <td>58544</td>\n",
       "      <td>admin.</td>\n",
       "    </tr>\n",
       "    <tr>\n",
       "      <th>446</th>\n",
       "      <td>45248</td>\n",
       "      <td>technician</td>\n",
       "    </tr>\n",
       "    <tr>\n",
       "      <th>334</th>\n",
       "      <td>24598</td>\n",
       "      <td>management</td>\n",
       "    </tr>\n",
       "    <tr>\n",
       "      <th>69</th>\n",
       "      <td>12223</td>\n",
       "      <td>blue-collar</td>\n",
       "    </tr>\n",
       "    <tr>\n",
       "      <th>34</th>\n",
       "      <td>10635</td>\n",
       "      <td>management</td>\n",
       "    </tr>\n",
       "  </tbody>\n",
       "</table>\n",
       "</div>"
      ],
      "text/plain": [
       "     balance          job\n",
       "920    58544       admin.\n",
       "446    45248   technician\n",
       "334    24598   management\n",
       "69     12223  blue-collar\n",
       "34     10635   management"
      ]
     },
     "execution_count": 35,
     "metadata": {},
     "output_type": "execute_result"
    }
   ],
   "source": [
    "df.loc[df['balance'].nlargest().index , ['balance', 'job']]"
   ]
  },
  {
   "cell_type": "code",
   "execution_count": 60,
   "id": "7de42c92-ea74-4847-bee4-9f2580395738",
   "metadata": {
    "tags": []
   },
   "outputs": [],
   "source": [
    "df['high balance & high education'] = (df['education'] == 'tertiary') & (df['balance'] > 5000)"
   ]
  },
  {
   "cell_type": "code",
   "execution_count": 61,
   "id": "54297944-7d00-4642-bf54-1ff9886e8ca6",
   "metadata": {
    "tags": []
   },
   "outputs": [
    {
     "data": {
      "text/html": [
       "<div>\n",
       "<style scoped>\n",
       "    .dataframe tbody tr th:only-of-type {\n",
       "        vertical-align: middle;\n",
       "    }\n",
       "\n",
       "    .dataframe tbody tr th {\n",
       "        vertical-align: top;\n",
       "    }\n",
       "\n",
       "    .dataframe thead th {\n",
       "        text-align: right;\n",
       "    }\n",
       "</style>\n",
       "<table border=\"1\" class=\"dataframe\">\n",
       "  <thead>\n",
       "    <tr style=\"text-align: right;\">\n",
       "      <th></th>\n",
       "      <th>age</th>\n",
       "      <th>job</th>\n",
       "      <th>marital</th>\n",
       "      <th>education</th>\n",
       "      <th>balance</th>\n",
       "      <th>duration</th>\n",
       "      <th>high balance,high education</th>\n",
       "      <th>high balance &amp; high education</th>\n",
       "    </tr>\n",
       "  </thead>\n",
       "  <tbody>\n",
       "    <tr>\n",
       "      <th>34</th>\n",
       "      <td>51.0</td>\n",
       "      <td>management</td>\n",
       "      <td>married</td>\n",
       "      <td>tertiary</td>\n",
       "      <td>10635</td>\n",
       "      <td>336</td>\n",
       "      <td>True</td>\n",
       "      <td>True</td>\n",
       "    </tr>\n",
       "    <tr>\n",
       "      <th>65</th>\n",
       "      <td>51.0</td>\n",
       "      <td>management</td>\n",
       "      <td>married</td>\n",
       "      <td>tertiary</td>\n",
       "      <td>6530</td>\n",
       "      <td>91</td>\n",
       "      <td>True</td>\n",
       "      <td>True</td>\n",
       "    </tr>\n",
       "    <tr>\n",
       "      <th>334</th>\n",
       "      <td>45.0</td>\n",
       "      <td>management</td>\n",
       "      <td>divorced</td>\n",
       "      <td>tertiary</td>\n",
       "      <td>24598</td>\n",
       "      <td>313</td>\n",
       "      <td>True</td>\n",
       "      <td>True</td>\n",
       "    </tr>\n",
       "    <tr>\n",
       "      <th>391</th>\n",
       "      <td>37.0</td>\n",
       "      <td>technician</td>\n",
       "      <td>married</td>\n",
       "      <td>tertiary</td>\n",
       "      <td>8730</td>\n",
       "      <td>149</td>\n",
       "      <td>True</td>\n",
       "      <td>True</td>\n",
       "    </tr>\n",
       "    <tr>\n",
       "      <th>493</th>\n",
       "      <td>55.0</td>\n",
       "      <td>unemployed</td>\n",
       "      <td>married</td>\n",
       "      <td>tertiary</td>\n",
       "      <td>5345</td>\n",
       "      <td>278</td>\n",
       "      <td>True</td>\n",
       "      <td>True</td>\n",
       "    </tr>\n",
       "    <tr>\n",
       "      <th>757</th>\n",
       "      <td>55.0</td>\n",
       "      <td>housemaid</td>\n",
       "      <td>divorced</td>\n",
       "      <td>tertiary</td>\n",
       "      <td>6920</td>\n",
       "      <td>406</td>\n",
       "      <td>True</td>\n",
       "      <td>True</td>\n",
       "    </tr>\n",
       "    <tr>\n",
       "      <th>916</th>\n",
       "      <td>40.0</td>\n",
       "      <td>services</td>\n",
       "      <td>single</td>\n",
       "      <td>tertiary</td>\n",
       "      <td>8823</td>\n",
       "      <td>378</td>\n",
       "      <td>True</td>\n",
       "      <td>True</td>\n",
       "    </tr>\n",
       "  </tbody>\n",
       "</table>\n",
       "</div>"
      ],
      "text/plain": [
       "      age         job   marital education  balance  duration  \\\n",
       "34   51.0  management   married  tertiary    10635       336   \n",
       "65   51.0  management   married  tertiary     6530        91   \n",
       "334  45.0  management  divorced  tertiary    24598       313   \n",
       "391  37.0  technician   married  tertiary     8730       149   \n",
       "493  55.0  unemployed   married  tertiary     5345       278   \n",
       "757  55.0   housemaid  divorced  tertiary     6920       406   \n",
       "916  40.0    services    single  tertiary     8823       378   \n",
       "\n",
       "     high balance,high education  high balance & high education  \n",
       "34                          True                           True  \n",
       "65                          True                           True  \n",
       "334                         True                           True  \n",
       "391                         True                           True  \n",
       "493                         True                           True  \n",
       "757                         True                           True  \n",
       "916                         True                           True  "
      ]
     },
     "execution_count": 61,
     "metadata": {},
     "output_type": "execute_result"
    }
   ],
   "source": [
    "df.loc[(df['education'] == 'tertiary') & (df['balance'] > 5000)]"
   ]
  },
  {
   "cell_type": "code",
   "execution_count": 62,
   "id": "5be30341-c775-48cf-9da1-716947890b18",
   "metadata": {
    "tags": []
   },
   "outputs": [
    {
     "data": {
      "text/html": [
       "<div>\n",
       "<style scoped>\n",
       "    .dataframe tbody tr th:only-of-type {\n",
       "        vertical-align: middle;\n",
       "    }\n",
       "\n",
       "    .dataframe tbody tr th {\n",
       "        vertical-align: top;\n",
       "    }\n",
       "\n",
       "    .dataframe thead th {\n",
       "        text-align: right;\n",
       "    }\n",
       "</style>\n",
       "<table border=\"1\" class=\"dataframe\">\n",
       "  <thead>\n",
       "    <tr style=\"text-align: right;\">\n",
       "      <th></th>\n",
       "      <th>age</th>\n",
       "      <th>job</th>\n",
       "      <th>marital</th>\n",
       "      <th>education</th>\n",
       "      <th>balance</th>\n",
       "      <th>duration</th>\n",
       "      <th>high balance,high education</th>\n",
       "      <th>high balance &amp; high education</th>\n",
       "    </tr>\n",
       "  </thead>\n",
       "  <tbody>\n",
       "    <tr>\n",
       "      <th>0</th>\n",
       "      <td>58.0</td>\n",
       "      <td>management</td>\n",
       "      <td>married</td>\n",
       "      <td>tertiary</td>\n",
       "      <td>2143</td>\n",
       "      <td>261</td>\n",
       "      <td>False</td>\n",
       "      <td>False</td>\n",
       "    </tr>\n",
       "    <tr>\n",
       "      <th>1</th>\n",
       "      <td>44.0</td>\n",
       "      <td>technician</td>\n",
       "      <td>single</td>\n",
       "      <td>secondary</td>\n",
       "      <td>29</td>\n",
       "      <td>151</td>\n",
       "      <td>False</td>\n",
       "      <td>False</td>\n",
       "    </tr>\n",
       "    <tr>\n",
       "      <th>2</th>\n",
       "      <td>33.0</td>\n",
       "      <td>entrepreneur</td>\n",
       "      <td>married</td>\n",
       "      <td>secondary</td>\n",
       "      <td>2</td>\n",
       "      <td>76</td>\n",
       "      <td>False</td>\n",
       "      <td>False</td>\n",
       "    </tr>\n",
       "    <tr>\n",
       "      <th>3</th>\n",
       "      <td>47.0</td>\n",
       "      <td>blue-collar</td>\n",
       "      <td>married</td>\n",
       "      <td>unknown</td>\n",
       "      <td>1506</td>\n",
       "      <td>92</td>\n",
       "      <td>False</td>\n",
       "      <td>False</td>\n",
       "    </tr>\n",
       "    <tr>\n",
       "      <th>4</th>\n",
       "      <td>33.0</td>\n",
       "      <td>unknown</td>\n",
       "      <td>single</td>\n",
       "      <td>unknown</td>\n",
       "      <td>1</td>\n",
       "      <td>198</td>\n",
       "      <td>False</td>\n",
       "      <td>False</td>\n",
       "    </tr>\n",
       "    <tr>\n",
       "      <th>...</th>\n",
       "      <td>...</td>\n",
       "      <td>...</td>\n",
       "      <td>...</td>\n",
       "      <td>...</td>\n",
       "      <td>...</td>\n",
       "      <td>...</td>\n",
       "      <td>...</td>\n",
       "      <td>...</td>\n",
       "    </tr>\n",
       "    <tr>\n",
       "      <th>995</th>\n",
       "      <td>37.0</td>\n",
       "      <td>blue-collar</td>\n",
       "      <td>married</td>\n",
       "      <td>primary</td>\n",
       "      <td>310</td>\n",
       "      <td>474</td>\n",
       "      <td>False</td>\n",
       "      <td>False</td>\n",
       "    </tr>\n",
       "    <tr>\n",
       "      <th>996</th>\n",
       "      <td>34.0</td>\n",
       "      <td>admin.</td>\n",
       "      <td>married</td>\n",
       "      <td>secondary</td>\n",
       "      <td>475</td>\n",
       "      <td>559</td>\n",
       "      <td>False</td>\n",
       "      <td>False</td>\n",
       "    </tr>\n",
       "    <tr>\n",
       "      <th>997</th>\n",
       "      <td>43.0</td>\n",
       "      <td>blue-collar</td>\n",
       "      <td>married</td>\n",
       "      <td>primary</td>\n",
       "      <td>61</td>\n",
       "      <td>261</td>\n",
       "      <td>False</td>\n",
       "      <td>False</td>\n",
       "    </tr>\n",
       "    <tr>\n",
       "      <th>998</th>\n",
       "      <td>49.0</td>\n",
       "      <td>services</td>\n",
       "      <td>married</td>\n",
       "      <td>secondary</td>\n",
       "      <td>1377</td>\n",
       "      <td>1101</td>\n",
       "      <td>False</td>\n",
       "      <td>False</td>\n",
       "    </tr>\n",
       "    <tr>\n",
       "      <th>999</th>\n",
       "      <td>33.0</td>\n",
       "      <td>technician</td>\n",
       "      <td>single</td>\n",
       "      <td>secondary</td>\n",
       "      <td>56</td>\n",
       "      <td>236</td>\n",
       "      <td>False</td>\n",
       "      <td>False</td>\n",
       "    </tr>\n",
       "  </tbody>\n",
       "</table>\n",
       "<p>1000 rows × 8 columns</p>\n",
       "</div>"
      ],
      "text/plain": [
       "      age           job  marital  education  balance  duration  \\\n",
       "0    58.0    management  married   tertiary     2143       261   \n",
       "1    44.0    technician   single  secondary       29       151   \n",
       "2    33.0  entrepreneur  married  secondary        2        76   \n",
       "3    47.0   blue-collar  married    unknown     1506        92   \n",
       "4    33.0       unknown   single    unknown        1       198   \n",
       "..    ...           ...      ...        ...      ...       ...   \n",
       "995  37.0   blue-collar  married    primary      310       474   \n",
       "996  34.0        admin.  married  secondary      475       559   \n",
       "997  43.0   blue-collar  married    primary       61       261   \n",
       "998  49.0      services  married  secondary     1377      1101   \n",
       "999  33.0    technician   single  secondary       56       236   \n",
       "\n",
       "     high balance,high education  high balance & high education  \n",
       "0                          False                          False  \n",
       "1                          False                          False  \n",
       "2                          False                          False  \n",
       "3                          False                          False  \n",
       "4                          False                          False  \n",
       "..                           ...                            ...  \n",
       "995                        False                          False  \n",
       "996                        False                          False  \n",
       "997                        False                          False  \n",
       "998                        False                          False  \n",
       "999                        False                          False  \n",
       "\n",
       "[1000 rows x 8 columns]"
      ]
     },
     "execution_count": 62,
     "metadata": {},
     "output_type": "execute_result"
    }
   ],
   "source": [
    "df"
   ]
  },
  {
   "cell_type": "code",
   "execution_count": null,
   "id": "e46f3b41-9e1b-46cc-a1c2-8c0c10614e36",
   "metadata": {},
   "outputs": [],
   "source": []
  }
 ],
 "metadata": {
  "kernelspec": {
   "display_name": "Python 3 (ipykernel)",
   "language": "python",
   "name": "python3"
  },
  "language_info": {
   "codemirror_mode": {
    "name": "ipython",
    "version": 3
   },
   "file_extension": ".py",
   "mimetype": "text/x-python",
   "name": "python",
   "nbconvert_exporter": "python",
   "pygments_lexer": "ipython3",
   "version": "3.11.4"
  }
 },
 "nbformat": 4,
 "nbformat_minor": 5
}
